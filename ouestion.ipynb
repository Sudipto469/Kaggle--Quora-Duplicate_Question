{
 "cells": [
  {
   "cell_type": "markdown",
   "id": "4a7126eb",
   "metadata": {},
   "source": [
    " 1. Business Problem\n",
    " > Description :\n",
    "\n",
    "Quora is a place to gain and share knowledge—about anything. It’s a platform to ask questions and connect with people who contribute unique insights and quality answers. This empowers people to learn from each other and to better understand the world.\n",
    "\n",
    "Over 100 million people visit Quora every month, so it's no surprise that many people ask similarly worded questions. Multiple questions with the same intent can cause seekers to spend more time finding the best answer to their question, and make writers feel they need to answer multiple versions of the same question. Quora values canonical questions because they provide a better experience to active seekers and writers, and offer more value to both of these groups in the long term.\n",
    "\n",
    "> Credits: Kaggle\n",
    "\n",
    "__ Problem Statement __\n",
    "\n",
    "    Identify which questions asked on Quora are duplicates of questions that have already been asked.\n",
    "    This could be useful to instantly provide answers to questions that have already been answered.\n",
    "    We are tasked with predicting whether a pair of questions are duplicates or not.\n",
    "\n",
    "1.2 Sources/Useful Links\n",
    "\n",
    "    Source : https://www.kaggle.com/c/quora-question-pairs"
   ]
  },
  {
   "cell_type": "markdown",
   "id": "6bfed274",
   "metadata": {},
   "source": [
    "Performance Metric\n",
    "\n",
    "Source: https://www.kaggle.com/c/quora-question-pairs#evaluation\n",
    "\n",
    "Metric(s):\n",
    "\n",
    "    log-loss : https://www.kaggle.com/wiki/LogarithmicLoss\n",
    "    Binary Confusion Matrix\n"
   ]
  },
  {
   "cell_type": "code",
   "execution_count": null,
   "id": "fb86e149",
   "metadata": {},
   "outputs": [],
   "source": []
  }
 ],
 "metadata": {
  "kernelspec": {
   "display_name": "Python 3 (Spyder)",
   "language": "python3",
   "name": "python3"
  },
  "language_info": {
   "codemirror_mode": {
    "name": "ipython",
    "version": 3
   },
   "file_extension": ".py",
   "mimetype": "text/x-python",
   "name": "python",
   "nbconvert_exporter": "python",
   "pygments_lexer": "ipython3",
   "version": "3.8.8"
  }
 },
 "nbformat": 4,
 "nbformat_minor": 5
}
